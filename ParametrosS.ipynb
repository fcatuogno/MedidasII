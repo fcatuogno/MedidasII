{
 "cells": [
  {
   "cell_type": "markdown",
   "metadata": {},
   "source": [
    "## <img src=\"./logo_UTN.svg\" align=\"right\" width=\"150\" /> \n",
    "#### Medidas Electronicas II\n",
    "\n",
    "# Ejercicios Parametros S\n",
    "#### Nombre y Apellido : Fabian Catuogno\n"
   ]
  },
  {
   "cell_type": "markdown",
   "metadata": {},
   "source": [
    "## Ejercicio 8\n",
    "<img src=\"./Enunciado81.png\" align=\"center\"/>\n",
    "<img src=\"./enunciado8a.png\" align=\"center\"/> \n",
    "\n",
    "<img src=\"./Ejercicio8a.jpg\" align=\"center\"/> "
   ]
  },
  {
   "cell_type": "code",
   "execution_count": 42,
   "metadata": {},
   "outputs": [
    {
     "name": "stdout",
     "output_type": "stream",
     "text": [
      "Gamma gen = 0 \tS22x = 0 \tS11y = 0\n",
      "Gamma en el puerto X1 = 0.309\n"
     ]
    }
   ],
   "source": [
    "import numpy as np\n",
    "\n",
    "#Generador\n",
    "Z0 = 50\n",
    "Pgz0 = 1 #W\n",
    "gamma_g = 0\n",
    "\n",
    "#Cuadripolo X\n",
    "s11x = 0.35\n",
    "s12x = 0.5\n",
    "s21x = 0.5\n",
    "s22x = 0\n",
    "\n",
    "#Cuadripolo Y\n",
    "s11y = 0\n",
    "s12y = 0.707\n",
    "s21y = 0.707\n",
    "s22y = 0.3\n",
    "\n",
    "#carga\n",
    "gamma_L = 0.3\n",
    "\n",
    "\n",
    "#Lazos\n",
    "L1 = s22y*gamma_L\n",
    "\n",
    "num_a1 = (1-L1)\n",
    "num_b1 = s11x*(1-L1)-s21x*s21y*gamma_L*s12y*s12x\n",
    "\n",
    "gamma_1 = num_b1/num_a1\n",
    "\n",
    "print(\"Gamma gen =\",gamma_g,\"\\tS22x =\",s22x,\"\\tS11y =\",s11y)\n",
    "print(\"Gamma en el puerto X1 =\", round(gamma_1,3))"
   ]
  },
  {
   "cell_type": "markdown",
   "metadata": {},
   "source": [
    "<img src=\"./enunciado8b.png\" align=\"left\"/> \n",
    "<img src=\"./Ejercicio8b1.jpg\" align=\"center\"/> \n"
   ]
  },
  {
   "cell_type": "code",
   "execution_count": 43,
   "metadata": {},
   "outputs": [
    {
     "name": "stdout",
     "output_type": "stream",
     "text": [
      "\n",
      "Gamma gen = 0 \tS22x = 0 \tS11y = 0\n",
      "La potencia en la carga es PL = 0.13732115384615382  Watts\n",
      "\n"
     ]
    }
   ],
   "source": [
    "#Generador\n",
    "Z0 = 50\n",
    "Pgz0 = 1 #W\n",
    "gamma_g = 0\n",
    "\n",
    "#Cuadripolo X\n",
    "s11x = 0.35\n",
    "s12x = 0.5\n",
    "s21x = 0.5\n",
    "s22x = 0\n",
    "\n",
    "#Cuadripolo Y\n",
    "s11y = 0\n",
    "s12y = 0.707\n",
    "s21y = 0.707\n",
    "s22y = 0.3\n",
    "\n",
    "#carga\n",
    "gamma_L = 0.3\n",
    "\n",
    "\n",
    "#Lazos\n",
    "L1 = gamma_g * s11x\n",
    "L2 = -s22x * s11y\n",
    "L3 = s22y * gamma_L\n",
    "\n",
    "L4 = -gamma_g * s21x * s11y * s12x\n",
    "L5 = -gamma_g * s21x *s21y * gamma_L * s12y * s12x\n",
    "L6 = -s22x * s21y * gamma_L * s12y\n",
    "\n",
    " \n",
    "#Determinante del sistema\n",
    "det = 1 - (L1 + L2 + L3 + L4 + L5 + L6) + (L1*L2 + L1*L3 + L2*L3 + L1*L6 + L4*L3) - (L1*L2*L3)\n",
    "\n",
    "\n",
    "#Potencia en la carga\n",
    "aL_modulo_cuadrado = (Pgz0 * np.abs(-s21x*s21y)**2)/np.abs(det)**2\n",
    "#bL_modulo_cuadrado = (Pgz0 * np.abs(-s21x*s21y*gamma_L)**2)/np.abs(det)**2\n",
    "\n",
    "#PL = aL_modulo_cuadrado - bL_modulo_cuadrado\n",
    "PL = aL_modulo_cuadrado*(1-np.abs(gamma_L)**2)\n",
    "print(\"\\nGamma gen =\",gamma_g,\"\\tS22x =\",s22x,\"\\tS11y =\",s11y)\n",
    "print(\"La potencia en la carga es PL =\",PL,\" Watts\\n\")"
   ]
  },
  {
   "cell_type": "markdown",
   "metadata": {},
   "source": [
    "<img src=\"./Ejercicio8b2.jpg\" align=\"center\"/> \n",
    "<img src=\"./Ejercicio8b21.jpg\" align=\"center\"/> \n"
   ]
  },
  {
   "cell_type": "code",
   "execution_count": 44,
   "metadata": {},
   "outputs": [
    {
     "name": "stdout",
     "output_type": "stream",
     "text": [
      "\n",
      "Gamma gen = 0 \tS22x = 0 \tS11y = 0\n",
      "La potencia en la carga es PL = 0.13732115384615382  Watts\n",
      "\n"
     ]
    }
   ],
   "source": [
    "def S2T(s):\n",
    "    t = np.array([[(s[0][1]*s[1][0]-s[0][0]*s[1][1])/s[1][0],   s[0][0]/s[1][0]],\n",
    "                  [-s[1][1]/s[1][0],                            1/s[1][0]]])\n",
    "    return t\n",
    "\n",
    "def T2S(t):\n",
    "    s = np.array([[t[0][1]/t[1][1],     (t[0][0]*t[1][1]-t[0][1]*t[1][0])/t[1][1]],\n",
    "                  [1/t[1][1],           -t[1][0]/t[1][1]]])\n",
    "    return s\n",
    "\n",
    "#Generador\n",
    "Pgz0 = 1 #W\n",
    "gamma_g = 0\n",
    "\n",
    "#Cuadripolo X\n",
    "s11x = 0.35\n",
    "s12x = 0.5\n",
    "s21x = 0.5\n",
    "s22x = 0\n",
    "Sx = np.array([[s11x,s12x],[s21x,s22x]])\n",
    "\n",
    "#Linea Tx\n",
    "s11 = 0\n",
    "s12 = -1j\n",
    "s21 = -1j\n",
    "s22 = 0\n",
    "S = np.array([[s11,s12],[s21,s22]])\n",
    "\n",
    "#Cuadripolo Y\n",
    "s11y = 0\n",
    "s12y = 0.707\n",
    "s21y = 0.707\n",
    "s22y = 0.3\n",
    "Sy = np.array([[s11y,s12y],[s21y,s22y]])\n",
    "\n",
    "#carga\n",
    "gamma_L = 0.3\n",
    "\n",
    "\n",
    "################################\n",
    "#\n",
    "#   Pasajes a matrices T\n",
    "#\n",
    "#################################\n",
    "Tx = S2T(Sx)\n",
    "T = S2T(S)\n",
    "Ty = S2T(Sy)\n",
    "\n",
    "#Muliplicacion de Matrices T\n",
    "T_total = Tx@T@Ty\n",
    "\n",
    "#Pasaje a Matriz S total:\n",
    "S_total = T2S(T_total)\n",
    "\n",
    "s11t = S_total[0][0]\n",
    "s12t = S_total[0][1]\n",
    "s21t = S_total[1][0]\n",
    "s22t = S_total[1][1]\n",
    "\n",
    "#Lazos\n",
    "L1 = gamma_g*s11t\n",
    "L2 = s22t*gamma_L\n",
    "L3 = gamma_g*s21t*gamma_L*s12t\n",
    "\n",
    "#determinante del sistema\n",
    "det = 1 - (L1+L2+L3) + (L1*L2)\n",
    "\n",
    "\n",
    "#Potencia en la carga\n",
    "aL_modulo_cuadrado = (Pgz0 * np.abs(s21t)**2)/np.abs(det)**2\n",
    "\n",
    "bL_modulo_cuadrado = (Pgz0 * np.abs(s21t*gamma_L)**2)/np.abs(det)**2\n",
    "\n",
    "PL = aL_modulo_cuadrado - bL_modulo_cuadrado\n",
    "PL = aL_modulo_cuadrado*(1-np.abs(gamma_L)**2)\n",
    "print(\"\\nGamma gen =\",gamma_g,\"\\tS22x =\",s22x,\"\\tS11y =\",s11y)\n",
    "print(\"La potencia en la carga es PL =\",PL,\" Watts\\n\")\n"
   ]
  },
  {
   "cell_type": "markdown",
   "metadata": {},
   "source": [
    "<img src=\"./Ejercicio8b31.jpg\" align=\"center\"/> \n",
    "<img src=\"./Ejercicio8b32.jpg\" align=\"center\"/> "
   ]
  },
  {
   "cell_type": "code",
   "execution_count": 45,
   "metadata": {},
   "outputs": [
    {
     "name": "stdout",
     "output_type": "stream",
     "text": [
      "\n",
      "Gamma gen = 0 \tS22x = 0 \tS11y = 0\n",
      "La potencia en la carga es PL = 0.13732115384615382  Watts\n",
      "\n"
     ]
    }
   ],
   "source": [
    "\n",
    "#Generador equivalente en 2x\n",
    "Pgz0_eq = np.abs(s21x)**2*Pgz0/np.abs(1-gamma_g*s11x)**2\n",
    "gamma_g_eq = s22x + s12x*s21x*gamma_g/(1-s11x*gamma_g)\n",
    "\n",
    "\n",
    "#Generador y equivalente en 1y\n",
    "Pgz0_eq_2 = Pgz0_eq\n",
    "gamma_g_eq_2 = -gamma_g_eq\n",
    "\n",
    "\n",
    "#Generador equivalente en 2y\n",
    "Pgz0_eq_3 = np.abs(s21y)**2*Pgz0_eq_2/np.abs(1-gamma_g_eq_2*s11y)**2\n",
    "gamma_g_eq_3 = s22y + s12y*s21y*gamma_g_eq_2/(1-s11y*gamma_g_eq_2)\n",
    "\n",
    "\n",
    "PL=Pgz0_eq_3*(1-np.abs(gamma_L)**2)/np.abs(1-gamma_g_eq_3*gamma_L)**2\n",
    "\n",
    "print(\"\\nGamma gen =\",gamma_g,\"\\tS22x =\",s22x,\"\\tS11y =\",s11y)\n",
    "print(\"La potencia en la carga es PL =\",PL,\" Watts\\n\")"
   ]
  },
  {
   "cell_type": "markdown",
   "metadata": {},
   "source": [
    "<img src=\"./Enunciado8c.png\" align=\"left\"/> "
   ]
  },
  {
   "cell_type": "code",
   "execution_count": 46,
   "metadata": {},
   "outputs": [],
   "source": [
    "#Redifinicion de parametros:\n",
    "gamma_g = 0.1\n",
    "s22x = 0.1\n",
    "s11y = 0.1"
   ]
  },
  {
   "cell_type": "code",
   "execution_count": 47,
   "metadata": {},
   "outputs": [
    {
     "name": "stdout",
     "output_type": "stream",
     "text": [
      "Metodo por flujo de señales (Mason)\n",
      "Gamma gen = 0.1 \tS22x = 0.1 \tS11y = 0.1\n",
      "La potencia en la carga es PL = 0.1381013089519564  Watts\n"
     ]
    }
   ],
   "source": [
    "#Metodo por flujo de señales\n",
    "print(\"Metodo por flujo de señales (Mason)\")\n",
    "#Lazos\n",
    "L1 = gamma_g * s11x\n",
    "L2 = -s22x * s11y\n",
    "L3 = s22y * gamma_L\n",
    "\n",
    "L4 = -gamma_g * s21x * s11y * s12x\n",
    "L5 = -gamma_g * s21x *s21y * gamma_L * s12y * s12x\n",
    "L6 = -s22x * s21y * gamma_L * s12y\n",
    "\n",
    " \n",
    "#Determinante del sistema\n",
    "det = 1 - (L1 + L2 + L3 + L4 + L5 + L6) + (L1*L2 + L1*L3 + L2*L3 + L1*L6 + L4*L3) - (L1*L2*L3)\n",
    "\n",
    "#Potencia en la carga\n",
    "aL_modulo_cuadrado = (Pgz0 * np.abs(-s21x*s21y)**2)/np.abs(det)**2\n",
    "\n",
    "#bL_modulo_cuadrado = (Pgz0 * np.abs(-s21x*s21y*gamma_L)**2)/np.abs(det)**2\n",
    "\n",
    "PL = aL_modulo_cuadrado - bL_modulo_cuadrado\n",
    "PL2 = aL_modulo_cuadrado*(1-np.abs(gamma_L)**2)\n",
    "print(\"Gamma gen =\",gamma_g,\"\\tS22x =\",s22x,\"\\tS11y =\",s11y)\n",
    "print(\"La potencia en la carga es PL =\",PL2,\" Watts\")"
   ]
  },
  {
   "cell_type": "code",
   "execution_count": 48,
   "metadata": {},
   "outputs": [
    {
     "name": "stdout",
     "output_type": "stream",
     "text": [
      "Metodo por Matriz T\n",
      "\n",
      "Gamma gen = 0.1 \tS22x = 0.1 \tS11y = 0.1\n",
      "La potencia en la carga es PL = 0.1381013089519564  Watts\n",
      "\n"
     ]
    }
   ],
   "source": [
    "##### Metodo por Matriz T\n",
    "print('Metodo por Matriz T')\n",
    "\n",
    "Sx = np.array([[s11x,s12x],[s21x,s22x]])\n",
    "S = np.array([[s11,s12],[s21,s22]])\n",
    "Sy = np.array([[s11y,s12y],[s21y,s22y]])\n",
    "\n",
    "\n",
    "################################\n",
    "#\n",
    "#   Pasajes a matrices T\n",
    "#\n",
    "#################################\n",
    "Tx = S2T(Sx)\n",
    "T = S2T(S)\n",
    "Ty = S2T(Sy)\n",
    "\n",
    "#Muliplicacion de Matrices T\n",
    "T_total = Tx@T@Ty\n",
    "\n",
    "#Pasaje a Matriz S total:\n",
    "S_total = T2S(T_total)\n",
    "\n",
    "s11t = S_total[0][0]\n",
    "s12t = S_total[0][1]\n",
    "s21t = S_total[1][0]\n",
    "s22t = S_total[1][1]\n",
    "\n",
    "#Lazos\n",
    "L1 = gamma_g*s11t\n",
    "L2 = s22t*gamma_L\n",
    "L3 = gamma_g*s21t*gamma_L*s12t\n",
    "\n",
    "#determinante del sistema\n",
    "det = 1 - (L1+L2+L3) + (L1*L2)\n",
    "\n",
    "\n",
    "#Potencia en la carga\n",
    "aL_modulo_cuadrado = (Pgz0 * np.abs(s21t)**2)/np.abs(det)**2\n",
    "\n",
    "#bL_modulo_cuadrado = (Pgz0 * np.abs(s21t*gamma_L)**2)/np.abs(det)**2\n",
    "\n",
    "#PL = aL_modulo_cuadrado - bL_modulo_cuadrado\n",
    "PL = aL_modulo_cuadrado*(1-np.abs(gamma_L)**2)\n",
    "print(\"\\nGamma gen =\",gamma_g,\"\\tS22x =\",s22x,\"\\tS11y =\",s11y)\n",
    "print(\"La potencia en la carga es PL =\",PL,\" Watts\\n\")"
   ]
  },
  {
   "cell_type": "code",
   "execution_count": 49,
   "metadata": {},
   "outputs": [
    {
     "name": "stdout",
     "output_type": "stream",
     "text": [
      "Metodo por generador equivalente\n",
      "\n",
      "Gamma gen = 0.1 \tS22x = 0.1 \tS11y = 0.1\n",
      "La potencia en la carga es PL = 0.13810130895195638  Watts\n",
      "\n"
     ]
    }
   ],
   "source": [
    "#Metodo por generador equivalente\n",
    "print('Metodo por generador equivalente')\n",
    "\n",
    "#Generador equivalente en 2x\n",
    "Pgz0_eq = np.abs(s21x)**2*Pgz0/np.abs(1-gamma_g*s11x)**2\n",
    "gamma_g_eq = s22x + s12x*s21x*gamma_g/(1-s11x*gamma_g)\n",
    "\n",
    "\n",
    "#Generador y equivalente en 1y\n",
    "Pgz0_eq_2 = Pgz0_eq\n",
    "gamma_g_eq_2 = -gamma_g_eq\n",
    "\n",
    "\n",
    "#Generador equivalente en 2y\n",
    "Pgz0_eq_3 = np.abs(s21y)**2*Pgz0_eq_2/np.abs(1-gamma_g_eq_2*s11y)**2\n",
    "gamma_g_eq_3 = s22y + s12y*s21y*gamma_g_eq_2/(1-s11y*gamma_g_eq_2)\n",
    "\n",
    "\n",
    "PL=Pgz0_eq_3*(1-np.abs(gamma_L)**2)/np.abs(1-gamma_g_eq_3*gamma_L)**2\n",
    "\n",
    "print(\"\\nGamma gen =\",gamma_g,\"\\tS22x =\",s22x,\"\\tS11y =\",s11y)\n",
    "print(\"La potencia en la carga es PL =\",PL,\" Watts\\n\")\n"
   ]
  },
  {
   "cell_type": "markdown",
   "metadata": {},
   "source": [
    "<img src=\"./Enunciado8d.png\" align=\"left\"/> "
   ]
  },
  {
   "cell_type": "markdown",
   "metadata": {},
   "source": [
    "\n",
    "<div class=\"alert alert-block alert-warning\">\n",
    "<b>Respuesta:</b> Contrario a lo que se podía esperar, al incrementar los valores de coeficiente de reflexion que hasta el momento eran nulos, pudo observarse que la potencia disipada en la carga aumentó. Esto puede explicarse por el aporte de la potencia reflejada en gamma_g y en s22\n",
    "</div>\n",
    "\n"
   ]
  },
  {
   "cell_type": "markdown",
   "metadata": {},
   "source": [
    "## Ejercicio 10\n",
    "\n",
    "<img src=\"./enunciado10.png\" align=\"center\"/> \n",
    "<img src=\"./Ejercicio10-1.jpg\" align=\"center\"/> \n",
    "<img src=\"./Ejercicio10-2.jpg\" align=\"center\"/> "
   ]
  },
  {
   "cell_type": "code",
   "execution_count": 50,
   "metadata": {},
   "outputs": [
    {
     "name": "stdout",
     "output_type": "stream",
     "text": [
      "Resultado Ejercicio 10.b)\n",
      "Gamma medido = 0.13\n",
      "\n",
      "Resultado Ejercicio 10.c)\n",
      "Potencia en la carga = 0.86 Watts\n"
     ]
    }
   ],
   "source": [
    "#Resolucion de ecuaciones planteadas en ejercicio 10\n",
    "'''\n",
    "    Puntos  10.b)\n",
    "            10.c)\n",
    "'''\n",
    "\n",
    "import numpy as np\n",
    "\n",
    "#Matriz S acoplador bidiriccional\n",
    "s11 = 0.05\n",
    "s12 = 0.915\n",
    "s13 = 0.1\n",
    "s14 = 0.004\n",
    "\n",
    "s21 = 0.915\n",
    "s22 = 0.05\n",
    "s23 = 0.004\n",
    "s24 = 0.1\n",
    "\n",
    "s31 = 0.1\n",
    "s32 = 0.004\n",
    "s33 = 0.1\n",
    "s34 = 0.04\n",
    "\n",
    "s41 = 0.004\n",
    "s42 = 0.1\n",
    "s43 = 0.04\n",
    "s44 = 0.1\n",
    "\n",
    "#Parametros Generador y carga\n",
    "Pgz0 = 1 #W\n",
    "gamma_g = 0.1\n",
    "gamma_L = 0.1\n",
    "\n",
    "\n",
    "#Lazos del sistema\n",
    "L1 = gamma_g*s11\n",
    "L2 = s22*gamma_L\n",
    "L3 = gamma_g*s21*gamma_L*s12\n",
    "\n",
    "#Determinante del sistema\n",
    "det = 1 - (L1 + L2 + L3) + (L1*L2)\n",
    "\n",
    "#P3\n",
    "t1 = s31\n",
    "det_1 = 1 - L2\n",
    "\n",
    "t2 = s21*gamma_L*s32\n",
    "\n",
    "#P4\n",
    "t1_4 = s41\n",
    "t2_4 = s21*gamma_L*s42\n",
    "\n",
    "\n",
    "P3 = np.abs(t1*det_1+t2)**2*Pgz0/np.abs(det)**2\n",
    "\n",
    "P4 = np.abs(t1_4*det_1+t2_4)**2*Pgz0/np.abs(det)**2\n",
    "\n",
    "gamma_m = np.abs(t1_4*det_1+t2_4)/np.abs(t1*det_1+t2)\n",
    "\n",
    "print(\"Resultado Ejercicio 10.b)\")\n",
    "print('Gamma medido =', round(np.sqrt(P4/P3),2), end='\\n\\n')\n",
    "#print(gamma_m)\n",
    "\n",
    "PL = (np.abs(s21)**2*Pgz0/np.abs(det)**2)*(1-np.abs(gamma_L)**2)\n",
    "\n",
    "print(\"Resultado Ejercicio 10.c)\")\n",
    "print('Potencia en la carga =',round(PL,2),'Watts')"
   ]
  },
  {
   "cell_type": "markdown",
   "metadata": {},
   "source": [
    "## Ejercicio 11\n",
    "<img src=\"./enunciado11.png\" align=\"center\"/> \n",
    "<img src=\"./enunciado11a.png\" align=\"center\"/> \n",
    "\n",
    "<img src=\"./Ejercicio11a1.jpg\" align=\"center\"/> \n",
    "<img src=\"./Ejercicio11a2.jpg\" align=\"center\"/> "
   ]
  },
  {
   "cell_type": "code",
   "execution_count": 51,
   "metadata": {},
   "outputs": [
    {
     "name": "stdout",
     "output_type": "stream",
     "text": [
      "Resultado Ejercicio 11.a)\n",
      "El gamma equivalente es 0.0097\n"
     ]
    }
   ],
   "source": [
    "import numpy as np\n",
    "\n",
    "#Generador\n",
    "gamma_g = 0.1\n",
    "\n",
    "#Carga\n",
    "gamma_L = 0.2\n",
    "\n",
    "#Splitter 2 vias\n",
    "s11sp = 0.02\n",
    "s12sp = 0.48\n",
    "s13sp = 0.51\n",
    "\n",
    "s21sp = 0.48\n",
    "s22sp = 0.245\n",
    "s23sp = 0.25\n",
    "\n",
    "s31sp = 0.51\n",
    "s32sp = 0.25\n",
    "s33sp = 0.248\n",
    "\n",
    "#Cuadripolo\n",
    "s11 = 0.3\n",
    "s12 = 0.707\n",
    "s21 = 0.707\n",
    "s22 = 0.3\n",
    "\n",
    "#Control de Nivel\n",
    "K = 1\n",
    "\n",
    "gamma_g_eq = s22sp - s21sp*s32sp/s31sp\n",
    "b_g_eq = K*s21sp/s31sp\n",
    "\n",
    "print(\"Resultado Ejercicio 11.a)\")\n",
    "print(\"El gamma equivalente es\", round(gamma_g_eq,4))"
   ]
  },
  {
   "cell_type": "markdown",
   "metadata": {},
   "source": [
    "<img src=\"./enunciado11b.png\" align=\"center\"/> \n",
    "\n",
    "<img src=\"./Ejercicio11b.jpg\" align=\"center\"/> "
   ]
  },
  {
   "cell_type": "code",
   "execution_count": 52,
   "metadata": {},
   "outputs": [
    {
     "name": "stdout",
     "output_type": "stream",
     "text": [
      "Resultado Ejercicio 11.b)\n",
      "La potencia que recibe el conjunto cuadripolo-carga es 0.745 W\n"
     ]
    }
   ],
   "source": [
    "gamma_L_eq = s11+s21*gamma_L*s12/(1-s22*gamma_L)\n",
    "Pin = (np.abs(b_g_eq)**2*(1-np.abs(gamma_L_eq)**2))/np.abs(1-gamma_g_eq*gamma_L_eq)**2\n",
    "\n",
    "print(\"Resultado Ejercicio 11.b)\")\n",
    "print(\"La potencia que recibe el conjunto cuadripolo-carga es\", round(Pin,3),\"W\")"
   ]
  },
  {
   "cell_type": "markdown",
   "metadata": {},
   "source": [
    "<img src=\"./enunciado11c.png\" align=\"center\"/> \n",
    "<img src=\"./Ejercicio11c.jpg\" align=\"center\"/> "
   ]
  },
  {
   "cell_type": "code",
   "execution_count": 53,
   "metadata": {},
   "outputs": [
    {
     "name": "stdout",
     "output_type": "stream",
     "text": [
      "Resultado Ejercicio 11.c)\n",
      "La potencia en la carga es 0.484 W\n"
     ]
    }
   ],
   "source": [
    "a2 = s21*b_g_eq/(1-(gamma_g_eq*s11+s22*gamma_L+s11*gamma_L*s12*gamma_g_eq)+gamma_g_eq*s11*s22*gamma_L)\n",
    "PL = np.abs(a2)**2*(1-np.abs(gamma_L)**2)\n",
    "\n",
    "print(\"Resultado Ejercicio 11.c)\")\n",
    "print(\"La potencia en la carga es\", round(PL,3),\"W\")"
   ]
  },
  {
   "cell_type": "markdown",
   "metadata": {},
   "source": [
    "## Ejercicio 13\n",
    "\n",
    "<img src=\"./enunciado13.png\" align=\"center\"/> \n",
    "<img src=\"./enunciado132.png\" align=\"center\"/> \n",
    "\n",
    "<img src=\"./Ejercicio13-1.jpg\" align=\"center\"/> \n",
    "<img src=\"./Ejercicio13-2.jpg\" align=\"center\"/> "
   ]
  },
  {
   "cell_type": "code",
   "execution_count": 54,
   "metadata": {},
   "outputs": [
    {
     "name": "stdout",
     "output_type": "stream",
     "text": [
      "13.a)\n",
      "Potencia de entrada Amplificador:\n",
      "Pin = 0.95 Watts\n",
      "Pin = 29.78 dBmW\n",
      "\n",
      "13.b)\n",
      "Potencia de entrada Atenuador:\n",
      "Pin = 87.44 Watts\n",
      "Pin = 49.42 dBmW\n",
      "\n",
      "13.c)\n",
      "Potencia disipada en la carga:\n",
      "PL = 0.08 Watts\n",
      "PL = 18.86 dBmW\n",
      "\n"
     ]
    }
   ],
   "source": [
    "'''\n",
    "    Resultados de ecuaciones planteadas para puntos\n",
    "        13.a)\n",
    "        13.b)\n",
    "        13.c)\n",
    "'''\n",
    "\n",
    "\n",
    "import numpy as np\n",
    "\n",
    "#Impedancia de normalizacion\n",
    "Z0 = 50\n",
    "\n",
    "#Generador\n",
    "gamma_g = -0.2\n",
    "Pgzo = 1 #Watt\n",
    "\n",
    "#Carga\n",
    "ZL = 100\n",
    "gamma_L = (ZL-Z0)/(ZL+Z0)\n",
    "\n",
    "#Amplificador\n",
    "s11amp = -0.2\n",
    "s12amp = 0.1\n",
    "s21amp = 10\n",
    "s22amp = 0\n",
    "\n",
    "#Atenuador\n",
    "s11att = 0.3\n",
    "s12att = 0.03\n",
    "s21att = 0.03\n",
    "s22att = 0\n",
    "\n",
    "#Lazos\n",
    "L1 = gamma_g*s11amp\n",
    "L2 = gamma_g*s21amp*s11att*s12amp\n",
    "L3 = gamma_g*s21amp*s21att*gamma_L*s12att*s12amp\n",
    "\n",
    "det = 1-(L1 + L2 + L3)\n",
    "\n",
    "a1_cuadrado = Pgzo/np.abs(det)**2 \n",
    "b1_cuadrado = np.abs(s11amp+s21amp*s11att*s12amp+s21amp*s21att*gamma_L*s12att*s12amp)**2*Pgzo/np.abs(det)**2 \n",
    "\n",
    "Pin_amp = a1_cuadrado - b1_cuadrado\n",
    "Pampin_dBmW = 10*np.log10(Pin_amp/0.001)\n",
    "\n",
    "print('13.a)\\nPotencia de entrada Amplificador:')\n",
    "print('Pin =',round(Pin_amp,2),'Watts')\n",
    "print('Pin =',round(Pampin_dBmW,2),'dBmW\\n')\n",
    "\n",
    "\n",
    "a2_cuadrado = np.abs(s21amp)**2*Pgzo/np.abs(det)**2 \n",
    "b2_cuadrado = np.abs(s21amp*s11att+s21amp*s21att*gamma_L*s12att)**2*Pgzo/np.abs(det)**2 \n",
    "\n",
    "\n",
    "Pin_att = a2_cuadrado - b2_cuadrado\n",
    "Pattin_dBmW = 10*np.log10(Pin_att/0.001)\n",
    "\n",
    "print('13.b)\\nPotencia de entrada Atenuador:')\n",
    "print('Pin =',round(Pin_att,2),'Watts')\n",
    "print('Pin =',round(Pattin_dBmW,2),'dBmW\\n')\n",
    "\n",
    "al_cuadrado = np.abs(s21amp*s21att)**2*Pgzo/np.abs(det)**2\n",
    "\n",
    "PL = al_cuadrado*(1-np.abs(gamma_L)**2)\n",
    "PL_dBmW = 10*np.log10(PL/0.001)\n",
    "print('13.c)\\nPotencia disipada en la carga:')\n",
    "print('PL =',round(PL,2),'Watts')\n",
    "print('PL =',round(PL_dBmW,2),'dBmW\\n')\n"
   ]
  },
  {
   "cell_type": "markdown",
   "metadata": {},
   "source": [
    "### Link a jupyter notebook en git:\n",
    "\n",
    "https://github.com/fcatuogno/MedidasII/blob/main/ParametrosS.ipynb"
   ]
  }
 ],
 "metadata": {
  "kernelspec": {
   "display_name": "Python 3",
   "language": "python",
   "name": "python3"
  },
  "language_info": {
   "codemirror_mode": {
    "name": "ipython",
    "version": 3
   },
   "file_extension": ".py",
   "mimetype": "text/x-python",
   "name": "python",
   "nbconvert_exporter": "python",
   "pygments_lexer": "ipython3",
   "version": "3.8.3"
  }
 },
 "nbformat": 4,
 "nbformat_minor": 4
}
